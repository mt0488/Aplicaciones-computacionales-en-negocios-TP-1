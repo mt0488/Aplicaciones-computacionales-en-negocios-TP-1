{
 "cells": [
  {
   "cell_type": "code",
   "execution_count": 1,
   "id": "38ec09db",
   "metadata": {},
   "outputs": [],
   "source": [
    "import utils\n",
    "from utils import Plane, Handler"
   ]
  },
  {
   "cell_type": "markdown",
   "id": "a3ced18f",
   "metadata": {},
   "source": [
    "#### ACÁ DEBERÍAMOS PONER LAS SIMULACIONES DE TODOS LOS INCISOS\n",
    "#### PODEMOS VARIAR LAMBDA, LA PROBA DE REBOTE DEL AVION, LA PROBA DE QUE LLUEVA\n",
    "#### PODEMOS MODIFICAR EL HORARIO DE CIERRE DE AEP, ES SIEMPRE LA MISMA ESTRUCTURA DE CODIGO,\n",
    "#### CAMBIANDO LOS PARAMETROS"
   ]
  }
 ],
 "metadata": {
  "kernelspec": {
   "display_name": "venv",
   "language": "python",
   "name": "python3"
  },
  "language_info": {
   "codemirror_mode": {
    "name": "ipython",
    "version": 3
   },
   "file_extension": ".py",
   "mimetype": "text/x-python",
   "name": "python",
   "nbconvert_exporter": "python",
   "pygments_lexer": "ipython3",
   "version": "3.12.3"
  }
 },
 "nbformat": 4,
 "nbformat_minor": 5
}
