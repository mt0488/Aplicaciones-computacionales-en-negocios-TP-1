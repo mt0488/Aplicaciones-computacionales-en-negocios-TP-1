{
 "cells": [
  {
   "cell_type": "code",
   "execution_count": null,
   "id": "38ec09db",
   "metadata": {},
   "outputs": [],
   "source": [
    "import pandas as pd\n",
    "import numpy as np\n",
    "from scipy.stats import binom\n",
    "import matplotlib.pyplot as plt\n",
    "import utils\n",
    "from utils import Plane, Handler\n",
    "import improved_utils\n",
    "import visualize\n",
    "import pickle"
   ]
  },
  {
   "cell_type": "markdown",
   "id": "4f84d0d4",
   "metadata": {},
   "source": [
    "### Trabajo previo - Contexto y relevamiento de información\n",
    "\n",
    "- En base al relevamiento de información realizado, observamos que la cantidad de vuelos que llegan y salen de Aeroparque son 300. Suponiendo que salen y llegan la misma cantidad de aviones, eso nos da un total de 150 aviones por día. Dado que nuestra simulación contempla solamente 18 horas del día, la cantidad de aviones que llegan a AEP por hora esta dada por la cuenta $\\frac{150}{24} = 6.25 \\approx 6$. Por ende, la tasa de arribos $\\lambda = 6/60 = 0.1$  \n",
    "- Suponiendo que no hay congestión, y el avión puede viajar a la velocidad máxima permitida en cada tramo, el tiempo que tarda es el siguiente: $(\\frac{100 - 50}{300} + \\frac{50 - 15}{250} + \\frac{15 - 5}{200} + \\frac{5 - 0}{150}) \\cdot 60 \\approx 23 \\ minutos$\n",
    "- El aeropuerto de Rosario se encuentra a un total de 154 millas náuticas de AEP (apróximadamente 286km), por ende, siguiendo con la misma idea que en el inciso anterios: $(\\frac{154 - 100}{500} + \\frac{100 - 50}{300} + \\frac{50 - 15}{250} + \\frac{15 - 5}{200} + \\frac{5 - 0}{150}) \\cdot 60 \\approx 30 \\ minutos$. Esto no es consistente con los horarios publicados por Aerolíneas (1 hora de viaje aproximadamente). Sin embargo, esto puede deberse a que en nuestro cálculo no estamos considerando variables como el tiempo de despegue y aterrizaje, tiempo de aceleración y desaceleración, congestión, etc. Lo mismo aplica para el inciso anterior; los tiempos y valores se volverán más realistas a medida que realicemos las simulaciones.\n",
    "- La máxima cantidad de aterrizajes que podrían suceder entre las 6 am y la medianoche está dada por la siguiente cuenta: $\\frac{18 \\cdot 60}{4}= 270$. Entonces, la cantidad máxima de aterrizajes en 18 horas suponiendo la restricción mencionada anteriormente es 270."
   ]
  },
  {
   "cell_type": "markdown",
   "id": "7222b390",
   "metadata": {},
   "source": [
    "### Ejercicio 1: Simulación de Montecarlo y Visualización"
   ]
  },
  {
   "cell_type": "code",
   "execution_count": null,
   "id": "99f02f82",
   "metadata": {},
   "outputs": [
    {
     "name": "stderr",
     "output_type": "stream",
     "text": [
      "Simulation:: 100%|██████████| 1/1 [00:00<00:00, 28.15it/s]\n"
     ]
    }
   ],
   "source": [
    "# h = Handler(N_ITERS = 1, SAVE_HISTORY=True)\n",
    "# results, s_stats, planes = h.simulate()"
   ]
  },
  {
   "cell_type": "code",
   "execution_count": 11,
   "id": "6a859896",
   "metadata": {},
   "outputs": [
    {
     "name": "stdout",
     "output_type": "stream",
     "text": [
      "Exited visualization..\n"
     ]
    }
   ],
   "source": [
    "# histories = [p for p in planes[0][\"plane_history\"]]\n",
    "# visualize.visualize(histories,2.5, 18*60, AIRCRAFT_SVG_PATH=\"plane.svg\")"
   ]
  },
  {
   "cell_type": "markdown",
   "id": "9b0367e9",
   "metadata": {},
   "source": [
    "### Ejercicio 2: Simulación con promedio de 1 arribo por hora\n",
    "Si el promedio de arribos es 1 avión por hora y nosotros medimos minuto a minuto, $\\lambda=\\frac{1}{60}$"
   ]
  },
  {
   "cell_type": "code",
   "execution_count": 12,
   "id": "b968a707",
   "metadata": {},
   "outputs": [
    {
     "name": "stderr",
     "output_type": "stream",
     "text": [
      "Simulation:: 100%|██████████| 10000/10000 [01:02<00:00, 159.19it/s]\n"
     ]
    }
   ],
   "source": [
    "ej2 = Handler(N_ITERS = 10_000, LAMBDA = 1/60, SAVE_HISTORY=True)\n",
    "results, simulation_stats, plane_history = ej2.simulate()"
   ]
  },
  {
   "cell_type": "code",
   "execution_count": 13,
   "id": "691313b3",
   "metadata": {},
   "outputs": [],
   "source": [
    "exercise_2 = {\n",
    "    \"numeric_results\": pd.DataFrame(results),\n",
    "    \"simulation_stats\": pd.DataFrame(simulation_stats),\n",
    "    \"plane_history\": plane_history  \n",
    "}\n",
    "with open(\"exercise_2.pkl\", \"wb\") as f:\n",
    "    pickle.dump(exercise_2, f)\n"
   ]
  },
  {
   "cell_type": "markdown",
   "id": "b7b8a821",
   "metadata": {},
   "source": [
    "### Ejercicio 3: Probabilidad de que lleguen 5 aviones en una hora"
   ]
  },
  {
   "cell_type": "code",
   "execution_count": 14,
   "id": "b990834e",
   "metadata": {},
   "outputs": [
    {
     "name": "stdout",
     "output_type": "stream",
     "text": [
      "Proba de que lleguen más de 5 aviones en una hora: 0.0031111111111111105\n",
      "Error de estimación: 0.013130870233401124\n"
     ]
    }
   ],
   "source": [
    "N_ITERS = 10_000\n",
    "LAMBDA = 1/60\n",
    "props_five = np.zeros(N_ITERS)\n",
    "for i, sim in enumerate(plane_history):\n",
    "    first_appearances = [sim[\"plane_history\"][i][0][0] for i in range(len(sim[\"plane_history\"]))]\n",
    "    groups = np.zeros((18,))\n",
    "    more_than_five = 0\n",
    "    for t0 in first_appearances:\n",
    "        min_to_hour = int(t0 // 60)\n",
    "        groups[min_to_hour] += 1\n",
    "    more_than_five += (groups >= 5).astype(int).sum() / 18\n",
    "    props_five[i] = more_than_five\n",
    "\n",
    "print(\"Proba de que lleguen más de 5 aviones en una hora:\", props_five.mean())\n",
    "print(\"Error de estimación:\", props_five.std())"
   ]
  },
  {
   "cell_type": "markdown",
   "id": "7cc4d7ef",
   "metadata": {},
   "source": [
    "Podríamos calcularlo de forma analítica de la siguiente manera:\n",
    "\n",
    "$$\n",
    "\\begin{aligned}\n",
    "    \\text{Sea } X &= \n",
    "    \\begin{cases}\n",
    "        1 & \\text{si arribó un avión en ese minuto} \\\\\n",
    "        0 & \\text{si no}\n",
    "    \\end{cases} \\\\[6pt]\n",
    "    &X \\sim \\text{Be}\\!\\left(\\tfrac{1}{60}\\right) \\\\[6pt]\n",
    "    \\text{Definimos } S &= \\sum_{i=1}^{60} X_i \\sim Bin(60, \\frac{1}{60}) \\\\[6pt]\n",
    "    \\text{Luego} \\ Y &= \"\\text{proba de que lleguen 5 aviones en una hora}\" \\\\ &= \\ P(S \\ge 5) \\\\[6pt]\n",
    "    \\text{Así, podemos calcular analíticamente: } P(S \\ge 5) &= 1 - P(S \\lt 5)\n",
    "\\end{aligned}\n",
    "$$"
   ]
  },
  {
   "cell_type": "code",
   "execution_count": 8,
   "id": "fe67fc6f",
   "metadata": {},
   "outputs": [
    {
     "data": {
      "text/plain": [
       "np.float64(0.0032833719684949303)"
      ]
     },
     "execution_count": 8,
     "metadata": {},
     "output_type": "execute_result"
    }
   ],
   "source": [
    "rv = binom(60, 1/60)\n",
    "1 - rv.cdf(4)"
   ]
  },
  {
   "cell_type": "markdown",
   "id": "e9848a05",
   "metadata": {},
   "source": [
    "Así, vemos que el valor teórico de $P(S \\ge 5)$  es 0.00328 $\\approx$ 0.0033, lo cual no está lejos del valor estimado"
   ]
  },
  {
   "cell_type": "markdown",
   "id": "e0b75f38",
   "metadata": {},
   "source": [
    "### Ejercicio 4: Simulación de arribos para distintas tasas de arribo"
   ]
  },
  {
   "cell_type": "code",
   "execution_count": 9,
   "id": "96dd5a9c",
   "metadata": {},
   "outputs": [
    {
     "name": "stderr",
     "output_type": "stream",
     "text": [
      "Simulation:: 100%|██████████| 10000/10000 [01:02<00:00, 158.80it/s]\n",
      "Simulation:: 100%|██████████| 10000/10000 [02:32<00:00, 65.71it/s]\n",
      "Simulation:: 100%|██████████| 10000/10000 [04:47<00:00, 34.75it/s]\n",
      "Simulation:: 100%|██████████| 10000/10000 [08:48<00:00, 18.92it/s]\n",
      "Simulation:: 100%|██████████| 10000/10000 [13:32<00:00, 12.31it/s]\n"
     ]
    }
   ],
   "source": [
    "lambdas = [0.02, 0.1 , 0.2, 0.5, 1]\n",
    "exercise_4 = []\n",
    "\n",
    "for l in lambdas:\n",
    "    h = Handler(N_ITERS=10_000, LAMBDA= l)\n",
    "    res, sim_stats, _ = h.simulate()\n",
    "    exercise_4.append({\n",
    "        \"lambda\": l,\n",
    "        \"numeric_results\": pd.DataFrame(res),\n",
    "        \"simulation_stats\": pd.DataFrame(sim_stats)\n",
    "    })\n",
    "    del res, sim_stats, h"
   ]
  },
  {
   "cell_type": "code",
   "execution_count": 10,
   "id": "30fb5dfe",
   "metadata": {},
   "outputs": [],
   "source": [
    "with open(\"exercise_4_results.pkl\", \"wb\") as f:\n",
    "    pickle.dump(exercise_4, f)"
   ]
  },
  {
   "cell_type": "markdown",
   "id": "30e860c2",
   "metadata": {},
   "source": [
    "### Ejercicio 5: Simulación con interrupción de aterrizaje"
   ]
  },
  {
   "cell_type": "code",
   "execution_count": 18,
   "id": "bd8e0a65",
   "metadata": {},
   "outputs": [
    {
     "name": "stderr",
     "output_type": "stream",
     "text": [
      "Simulation:: 100%|██████████| 10000/10000 [00:56<00:00, 177.08it/s]\n",
      "Simulation:: 100%|██████████| 10000/10000 [02:29<00:00, 66.99it/s]\n",
      "Simulation:: 100%|██████████| 10000/10000 [05:02<00:00, 33.10it/s]\n",
      "Simulation:: 100%|██████████| 10000/10000 [09:20<00:00, 17.84it/s]\n",
      "Simulation:: 100%|██████████| 10000/10000 [13:55<00:00, 11.97it/s]\n"
     ]
    }
   ],
   "source": [
    "lambdas = [0.02, 0.1 , 0.2, 0.5, 1]\n",
    "results = []\n",
    "exercise_5 = []\n",
    "bounce_prob = 0.1\n",
    "\n",
    "N_ITERS = 10_000\n",
    "for l in lambdas:\n",
    "    h = Handler(N_ITERS=N_ITERS, LAMBDA= l, PROP_BOUNCE=bounce_prob)\n",
    "    res, sim_stats, _ = h.simulate()\n",
    "    exercise_5.append({\n",
    "        \"lambda\": l,\n",
    "        \"numeric_results\": pd.DataFrame(res),\n",
    "        \"simulation_stats\": pd.DataFrame(sim_stats)\n",
    "    })\n",
    "    del res, sim_stats, h"
   ]
  },
  {
   "cell_type": "code",
   "execution_count": 12,
   "id": "c2c7d05b",
   "metadata": {},
   "outputs": [],
   "source": [
    "with open(\"exercise_5_results.pkl\", \"wb\") as f:\n",
    "    pickle.dump(exercise_5, f)"
   ]
  },
  {
   "cell_type": "code",
   "execution_count": null,
   "id": "3e4a4e9b",
   "metadata": {},
   "outputs": [
    {
     "name": "stderr",
     "output_type": "stream",
     "text": [
      "Simulation:: 100%|██████████| 1/1 [00:00<00:00, 12.44it/s]\n"
     ]
    },
    {
     "name": "stdout",
     "output_type": "stream",
     "text": [
      "Exited visualization..\n"
     ]
    }
   ],
   "source": [
    "# VISUALIZACION CON REBOTE\n",
    "# h = Handler(N_ITERS = 1, LAMBDA=0.2, PROP_BOUNCE=0.1, SAVE_HISTORY=True)\n",
    "# results, s_stats, planes = h.simulate()\n",
    "# histories = [p for p in planes[0][\"plane_history\"]]\n",
    "# visualize.visualize(histories,2.5, 18*60, AIRCRAFT_SVG_PATH=\"plane.svg\")"
   ]
  },
  {
   "cell_type": "markdown",
   "id": "d2507f8d",
   "metadata": {},
   "source": [
    "### Ejercicio 6: Simulación con cierre de media hora"
   ]
  },
  {
   "cell_type": "code",
   "execution_count": 13,
   "id": "05dfc9ef",
   "metadata": {},
   "outputs": [
    {
     "name": "stderr",
     "output_type": "stream",
     "text": [
      "Simulation:: 100%|██████████| 10000/10000 [00:56<00:00, 177.04it/s]\n",
      "Simulation:: 100%|██████████| 10000/10000 [02:20<00:00, 71.31it/s]\n",
      "Simulation:: 100%|██████████| 10000/10000 [04:29<00:00, 37.13it/s]\n",
      "Simulation:: 100%|██████████| 10000/10000 [08:50<00:00, 18.86it/s]\n",
      "Simulation:: 100%|██████████| 10000/10000 [13:32<00:00, 12.31it/s]\n"
     ]
    }
   ],
   "source": [
    "lambdas = [0.02, 0.1 , 0.2, 0.5, 1]\n",
    "exercise_6 = []\n",
    "N_ITERS = 10_000\n",
    "for l in lambdas:\n",
    "    h = Handler(N_ITERS=N_ITERS, LAMBDA= l, CLOSING_TIME=True)\n",
    "    res, sim_stats, _ = h.simulate()\n",
    "    exercise_6.append({\n",
    "        \"lambda\": l,\n",
    "        \"numeric_results\": pd.DataFrame(res),\n",
    "        \"simulation_stats\": pd.DataFrame(sim_stats)\n",
    "    })\n",
    "    del res, sim_stats, h"
   ]
  },
  {
   "cell_type": "code",
   "execution_count": 14,
   "id": "2aa318ee",
   "metadata": {},
   "outputs": [],
   "source": [
    "with open(\"exercise_6_results.pkl\", \"wb\") as f:\n",
    "    pickle.dump(exercise_6, f)"
   ]
  },
  {
   "cell_type": "markdown",
   "id": "85c7918a",
   "metadata": {},
   "source": [
    "### Ejercicio 7: Cambios para mejorar el funcionamiento del aeropuerto\n",
    "\n",
    "Para la siguiente experimentación y cambios de políticas vamos a usar $\\lambda = 0.1$ que representa el valor que estimamos en función de los datos empíricos obtenidos de aerolíneas y otros portales de aviación."
   ]
  },
  {
   "cell_type": "code",
   "execution_count": 5,
   "id": "5f206fea",
   "metadata": {},
   "outputs": [
    {
     "name": "stderr",
     "output_type": "stream",
     "text": [
      "Simulation:: 100%|██████████| 10000/10000 [03:10<00:00, 52.54it/s]\n"
     ]
    }
   ],
   "source": [
    "LAMBDA = 0.1\n",
    "N_ITERS = 10_000\n",
    "\n",
    "new_speeds = Handler( LAMBDA=LAMBDA, N_ITERS=N_ITERS)\n",
    "new_speeds_res, new_speeds_st, _ = new_speeds.simulate()\n",
    "\n",
    "baseline = {\n",
    "    \"lambda\": 0.1,\n",
    "    \"numeric_results\": new_speeds_res,\n",
    "    \"simulation_stats\": new_speeds_st\n",
    "}"
   ]
  },
  {
   "cell_type": "code",
   "execution_count": 6,
   "id": "3ac38259",
   "metadata": {},
   "outputs": [],
   "source": [
    "with open(\"exercise_7_baseline.pkl\", \"wb\") as f:\n",
    "    pickle.dump(baseline, f)"
   ]
  },
  {
   "cell_type": "code",
   "execution_count": null,
   "id": "5150c95d",
   "metadata": {},
   "outputs": [
    {
     "name": "stderr",
     "output_type": "stream",
     "text": [
      "Simulation:: 100%|██████████| 10000/10000 [03:42<00:00, 44.93it/s]\n"
     ]
    }
   ],
   "source": [
    "# RELAJAMOS EL BUFFER EN 1 MINUTO (4 --> 3 y 5 --> 4)\n",
    "MIN_THRESHOLD = 3\n",
    "MIN_BUF = 4      \n",
    "\n",
    "LAMBDA = 0.1\n",
    "N_ITERS = 10_000\n",
    "\n",
    "new_speeds = Handler(MIN_THRESHOLD=MIN_THRESHOLD,MIN_BUF=MIN_BUF, \n",
    "                     LAMBDA=LAMBDA, N_ITERS=N_ITERS)\n",
    "new_speeds_res, new_speeds_st, _ = new_speeds.simulate()\n",
    "\n",
    "changed_buffers = {\n",
    "    \"lambda\": 0.1,\n",
    "    \"numeric_results\": new_speeds_res,\n",
    "    \"simulation_stats\": new_speeds_st\n",
    "}"
   ]
  },
  {
   "cell_type": "code",
   "execution_count": 24,
   "id": "915ff189",
   "metadata": {},
   "outputs": [],
   "source": [
    "with open(\"exercise_7_new_buffers.pkl\", \"wb\") as f:\n",
    "    pickle.dump(changed_buffers, f)"
   ]
  },
  {
   "cell_type": "code",
   "execution_count": 2,
   "id": "e73d9164",
   "metadata": {},
   "outputs": [
    {
     "name": "stderr",
     "output_type": "stream",
     "text": [
      "Simulation::   0%|          | 0/10000 [00:00<?, ?it/s]"
     ]
    },
    {
     "name": "stderr",
     "output_type": "stream",
     "text": [
      "Simulation:: 100%|██████████| 10000/10000 [03:47<00:00, 44.03it/s]\n"
     ]
    }
   ],
   "source": [
    "# RELAJAMOS EL AJUSTE DE VELOCIDAD: (NEXT_SPEED - 20) --> (NEXT_SPEED - 10)\n",
    "SPEED_ADJUSTMENT = 10\n",
    "\n",
    "LAMBDA = 0.1\n",
    "N_ITERS = 10_000\n",
    "\n",
    "new_speeds = Handler(SPEED_ADJUSTMENT=SPEED_ADJUSTMENT, \n",
    "                                    LAMBDA=LAMBDA, N_ITERS=N_ITERS,)\n",
    "\n",
    "new_speeds_res, new_speeds_st, _ = new_speeds.simulate()\n",
    "\n",
    "changed_speed_adjust = {\n",
    "    \"lambda\": 0.1,\n",
    "    \"numeric_results\": new_speeds_res,\n",
    "    \"simulation_stats\": new_speeds_st\n",
    "}"
   ]
  },
  {
   "cell_type": "code",
   "execution_count": 3,
   "id": "f4415526",
   "metadata": {},
   "outputs": [],
   "source": [
    "with open(\"exercise_7_new_speed_adjust.pkl\", \"wb\") as f:\n",
    "    pickle.dump(changed_speed_adjust, f)"
   ]
  },
  {
   "cell_type": "code",
   "execution_count": 3,
   "id": "c35192b5",
   "metadata": {},
   "outputs": [
    {
     "name": "stderr",
     "output_type": "stream",
     "text": [
      "Simulation:: 100%|██████████| 10000/10000 [02:50<00:00, 58.70it/s]\n"
     ]
    }
   ],
   "source": [
    "LAMBDA = 0.1\n",
    "N_ITERS = 10_000\n",
    "\n",
    "MIN_THRESHOLD = 5 # Ahora medido en MN\n",
    "MIN_BUF = 10 # Ahora medido en MN tambien\n",
    "\n",
    "new_speeds = improved_utils.Handler(MIN_THRESHOLD=MIN_THRESHOLD, MIN_BUF=MIN_BUF, \n",
    "                                    LAMBDA=LAMBDA, N_ITERS=N_ITERS,)\n",
    "\n",
    "new_speeds_res, new_speeds_st, _ = new_speeds.simulate()\n",
    "\n",
    "new_buffer_measurements = {\n",
    "    \"lambda\": 0.1,\n",
    "    \"numeric_results\": new_speeds_res,\n",
    "    \"simulation_stats\": new_speeds_st\n",
    "}"
   ]
  },
  {
   "cell_type": "code",
   "execution_count": 4,
   "id": "b3c1f482",
   "metadata": {},
   "outputs": [],
   "source": [
    "with open(\"exercise_7_new_buffer_measurements.pkl\", \"wb\") as f:\n",
    "    pickle.dump(new_buffer_measurements, f)"
   ]
  },
  {
   "cell_type": "code",
   "execution_count": null,
   "id": "67adfa52",
   "metadata": {},
   "outputs": [
    {
     "name": "stderr",
     "output_type": "stream",
     "text": [
      "Simulation:: 100%|██████████| 1/1 [00:00<00:00, 38.28it/s]\n"
     ]
    },
    {
     "name": "stdout",
     "output_type": "stream",
     "text": [
      "Exited visualization..\n"
     ]
    }
   ],
   "source": [
    "# h = improved_utils.Handler(N_ITERS = 1, LAMBDA=0.1, SAVE_HISTORY=True)\n",
    "# results, s_stats, planes = h.simulate()\n",
    "# histories = [p for p in planes[0][\"plane_history\"]]\n",
    "# visualize.visualize(histories,2.5, 18*60, AIRCRAFT_SVG_PATH=\"plane.svg\")"
   ]
  },
  {
   "cell_type": "code",
   "execution_count": 8,
   "id": "731c2bee",
   "metadata": {},
   "outputs": [
    {
     "name": "stderr",
     "output_type": "stream",
     "text": [
      "Simulation:: 100%|██████████| 10000/10000 [03:13<00:00, 51.58it/s]\n"
     ]
    }
   ],
   "source": [
    "# RELAJAMOS EL BUFFER EN 1 MINUTO (4 --> 3 y 5 --> 4)\n",
    "MIN_THRESHOLD = 3\n",
    "MIN_BUF = 4    \n",
    "SPEED_ADJUSTMENT = 10    \n",
    "\n",
    "LAMBDA = 0.1\n",
    "N_ITERS = 10_000\n",
    "\n",
    "new_speeds = Handler(MIN_THRESHOLD=MIN_THRESHOLD,MIN_BUF=MIN_BUF,\n",
    "                     SPEED_ADJUSTMENT=SPEED_ADJUSTMENT, \n",
    "                     LAMBDA=LAMBDA, N_ITERS=N_ITERS)\n",
    "new_speeds_res, new_speeds_st, _ = new_speeds.simulate()\n",
    "\n",
    "all_combined = {\n",
    "    \"lambda\": 0.1,\n",
    "    \"numeric_results\": new_speeds_res,\n",
    "    \"simulation_stats\": new_speeds_st\n",
    "}"
   ]
  },
  {
   "cell_type": "code",
   "execution_count": 9,
   "id": "b8bea4d2",
   "metadata": {},
   "outputs": [],
   "source": [
    "with open(\"exercise_7_all_combined.pkl\", \"wb\") as f:\n",
    "    pickle.dump(all_combined, f)"
   ]
  }
 ],
 "metadata": {
  "kernelspec": {
   "display_name": "Python 3",
   "language": "python",
   "name": "python3"
  },
  "language_info": {
   "codemirror_mode": {
    "name": "ipython",
    "version": 3
   },
   "file_extension": ".py",
   "mimetype": "text/x-python",
   "name": "python",
   "nbconvert_exporter": "python",
   "pygments_lexer": "ipython3",
   "version": "3.12.6"
  }
 },
 "nbformat": 4,
 "nbformat_minor": 5
}
