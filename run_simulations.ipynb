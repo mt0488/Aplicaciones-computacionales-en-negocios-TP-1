{
 "cells": [
  {
   "cell_type": "code",
   "execution_count": 15,
   "id": "38ec09db",
   "metadata": {},
   "outputs": [],
   "source": [
    "import pandas as pd\n",
    "import numpy as np\n",
    "from scipy.stats import binom\n",
    "import matplotlib.pyplot as plt\n",
    "import utils\n",
    "from utils import Plane, Handler\n",
    "import visualize"
   ]
  },
  {
   "cell_type": "markdown",
   "id": "7222b390",
   "metadata": {},
   "source": [
    "### Ejercicio 1: Simulación de Montecarlo y Visualización"
   ]
  },
  {
   "cell_type": "code",
   "execution_count": 4,
   "id": "99f02f82",
   "metadata": {},
   "outputs": [],
   "source": [
    "h = Handler(N_ITERS = 10_000)\n",
    "results, planes = h.simulate()"
   ]
  },
  {
   "cell_type": "code",
   "execution_count": 3,
   "id": "6a859896",
   "metadata": {},
   "outputs": [
    {
     "name": "stdout",
     "output_type": "stream",
     "text": [
      "Exited visualization..\n"
     ]
    }
   ],
   "source": [
    "histories = [p.history for p in planes]\n",
    "visualize.visualize(histories,2.5, 18*60, AIRCRAFT_SVG_PATH=\"plane.svg\")"
   ]
  },
  {
   "cell_type": "markdown",
   "id": "9b0367e9",
   "metadata": {},
   "source": [
    "### Ejercicio 2: Simulación con promedio de 1 arribo por hora\n",
    "Si el promedio de arribos es 1 avión por hora y nosotros medimos minuto a minuto, $\\lambda=\\frac{1}{60}$"
   ]
  },
  {
   "cell_type": "code",
   "execution_count": 2,
   "id": "b968a707",
   "metadata": {},
   "outputs": [],
   "source": [
    "ej2 = Handler(N_ITERS = 10_000, LAMBDA = 1/60)\n",
    "results, simulation_history = ej2.simulate()"
   ]
  },
  {
   "cell_type": "markdown",
   "id": "b7b8a821",
   "metadata": {},
   "source": [
    "### Ejercicio 3: Probabilidad de que lleguen 5 aviones en una hora"
   ]
  },
  {
   "cell_type": "code",
   "execution_count": 18,
   "id": "b990834e",
   "metadata": {},
   "outputs": [
    {
     "name": "stdout",
     "output_type": "stream",
     "text": [
      "Proba de que lleguen más de 5 aviones en una hora: 0.0035555555555555557\n",
      "Error de estimación: 0.01397793675938558\n"
     ]
    }
   ],
   "source": [
    "N_ITERS = 10_000\n",
    "props_five = np.zeros(N_ITERS)\n",
    "for i, sim in enumerate(simulation_history[\"simulations\"]):\n",
    "    first_appearances = [sim[\"plane_history\"][i][0][0] for i in range(len(sim[\"plane_history\"]))]\n",
    "    groups = np.zeros((18,))\n",
    "    more_than_five = 0\n",
    "    for t0 in first_appearances:\n",
    "        min_to_hour = int(t0 // 60)\n",
    "        groups[min_to_hour] += 1\n",
    "    more_than_five += (groups >= 5).astype(int).sum() / 18\n",
    "    props_five[i] = more_than_five\n",
    "\n",
    "print(\"Proba de que lleguen más de 5 aviones en una hora:\", props_five.mean())\n",
    "print(\"Error de estimación:\", props_five.std())"
   ]
  },
  {
   "cell_type": "markdown",
   "id": "7cc4d7ef",
   "metadata": {},
   "source": [
    "Podríamos calcularlo de forma analítica de la siguiente manera:\n",
    "\n",
    "$$\n",
    "\\begin{aligned}\n",
    "    \\text{Sea } X &= \n",
    "    \\begin{cases}\n",
    "        1 & \\text{si arribó un avión en ese minuto} \\\\\n",
    "        0 & \\text{si no}\n",
    "    \\end{cases} \\\\[6pt]\n",
    "    &X \\sim \\text{Be}\\!\\left(\\tfrac{1}{60}\\right) \\\\[6pt]\n",
    "    \\text{Definimos } S &= \\sum_{i=1}^{60} X_i \\sim Bin(60, \\frac{1}{60}) \\\\[6pt]\n",
    "    \\text{Luego} \\ Y &= \"\\text{proba de que lleguen 5 aviones en una hora}\" \\ = \\ P(S \\ge 5) \\\\[6pt]\n",
    "    \\text{Así, podemos calcular analíticamente: } P(S \\ge 5) &= 1 - P(S \\lt 5)\n",
    "\\end{aligned}\n",
    "$$"
   ]
  },
  {
   "cell_type": "code",
   "execution_count": 16,
   "id": "fe67fc6f",
   "metadata": {},
   "outputs": [
    {
     "data": {
      "text/plain": [
       "np.float64(0.0032833719684949303)"
      ]
     },
     "execution_count": 16,
     "metadata": {},
     "output_type": "execute_result"
    }
   ],
   "source": [
    "rv = binom(60, 1/60)\n",
    "1 - rv.cdf(4)"
   ]
  },
  {
   "cell_type": "markdown",
   "id": "e9848a05",
   "metadata": {},
   "source": [
    "Así, vemos que el valor teórico de $P(S \\ge 5)$  es 0.00328 $\\approx$ 0.0033, lo cual no está lejos del valor estimado"
   ]
  },
  {
   "cell_type": "markdown",
   "id": "e0b75f38",
   "metadata": {},
   "source": [
    "### Ejercicio 4: Simulación de arribos para distintas tasas de arribo"
   ]
  },
  {
   "cell_type": "code",
   "execution_count": null,
   "id": "96dd5a9c",
   "metadata": {},
   "outputs": [],
   "source": [
    "lambdas = [0.02, 0.1 , 0.2, 0.5, 1]\n",
    "results = []\n",
    "\n",
    "for l in lambdas:\n",
    "    h = Handler(LAMBDA= l)\n",
    "    res, p_hist = h.simulate()\n",
    "    results.append({\n",
    "        \"lambda\": l,\n",
    "        \"numeric_results\": res,\n",
    "        \"plane_history\": p_hist\n",
    "    })"
   ]
  },
  {
   "cell_type": "markdown",
   "id": "30e860c2",
   "metadata": {},
   "source": [
    "### Ejercicio 5: Simulación con interrupción de aterrizaje"
   ]
  },
  {
   "cell_type": "code",
   "execution_count": null,
   "id": "bd8e0a65",
   "metadata": {},
   "outputs": [],
   "source": [
    "lambdas = [0.02, 0.1 , 0.2, 0.5, 1]\n",
    "results = []\n",
    "bounce_prob = 0.1\n",
    "for l in lambdas:\n",
    "    h = Handler(LAMBDA=l, PROP_BOUNCE=bounce_prob)\n",
    "    res, p_hist = h.simulate()\n",
    "    results.append({\n",
    "        \"lambda\": l,\n",
    "        \"numeric_results\": res,\n",
    "        \"plane_history\": p_hist\n",
    "    })"
   ]
  },
  {
   "cell_type": "markdown",
   "id": "d2507f8d",
   "metadata": {},
   "source": [
    "### Ejercicio 6: Simulación con cierre de media hora"
   ]
  },
  {
   "cell_type": "code",
   "execution_count": null,
   "id": "05dfc9ef",
   "metadata": {},
   "outputs": [],
   "source": [
    "arrival_rate = 10 / 60\n",
    "h = Handler(LAMBDA=arrival_rate, CLOSING_TIME=240) # closing_time = 240 -> el aeropuerto cierra a las 10:00 AM\n",
    "res, p_hist = h.simulate()"
   ]
  },
  {
   "cell_type": "markdown",
   "id": "85c7918a",
   "metadata": {},
   "source": [
    "### Ejercicio 7: Cambios para mejorar el funcionamiento del aeropuerto"
   ]
  }
 ],
 "metadata": {
  "kernelspec": {
   "display_name": "venv",
   "language": "python",
   "name": "python3"
  },
  "language_info": {
   "codemirror_mode": {
    "name": "ipython",
    "version": 3
   },
   "file_extension": ".py",
   "mimetype": "text/x-python",
   "name": "python",
   "nbconvert_exporter": "python",
   "pygments_lexer": "ipython3",
   "version": "3.12.3"
  }
 },
 "nbformat": 4,
 "nbformat_minor": 5
}
