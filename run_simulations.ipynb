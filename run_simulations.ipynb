{
 "cells": [
  {
   "cell_type": "code",
   "execution_count": 1,
   "id": "38ec09db",
   "metadata": {},
   "outputs": [
    {
     "name": "stdout",
     "output_type": "stream",
     "text": [
      "pygame 2.6.1 (SDL 2.28.4, Python 3.12.6)\n",
      "Hello from the pygame community. https://www.pygame.org/contribute.html\n"
     ]
    }
   ],
   "source": [
    "import pandas as pd\n",
    "import numpy as np\n",
    "from scipy.stats import binom\n",
    "import matplotlib.pyplot as plt\n",
    "import utils\n",
    "from utils import Plane, Handler\n",
    "import visualize\n",
    "import pickle"
   ]
  },
  {
   "cell_type": "markdown",
   "id": "4f84d0d4",
   "metadata": {},
   "source": [
    "### Trabajo previo - Contexto y relevamiento de información\n",
    "\n",
    "- En base al relevamiento de información realizado, observamos que la cantidad de vuelos que llegan y salen de Aeroparque son 300. Suponiendo que salen y llegan la misma cantidad de aviones, eso nos da un total de 150 aviones por día. Dado que nuestra simulación contempla solamente 18 horas del día, la cantidad de aviones que llegan a AEP por hora esta dada por la cuenta $\\frac{150}{24} = 6.25 \\approx 6$. Por ende, la tasa de arribos $\\lambda = 6/60 = 0.1$  \n",
    "- Suponiendo que no hay congestión, y el avión puede viajar a la velocidad máxima permitida en cada tramo, el tiempo que tarda es el siguiente: $(\\frac{100 - 50}{300} + \\frac{50 - 15}{250} + \\frac{15 - 5}{200} + \\frac{5 - 0}{150}) \\cdot 60 \\approx 23 \\ minutos$\n",
    "- El aeropuerto de Rosario se encuentra a un total de 154 millas náuticas de AEP (apróximadamente 286km), por ende, siguiendo con la misma idea que en el inciso anterios: $(\\frac{154 - 100}{500} + \\frac{100 - 50}{300} + \\frac{50 - 15}{250} + \\frac{15 - 5}{200} + \\frac{5 - 0}{150}) \\cdot 60 \\approx 30 \\ minutos$. Esto no es consistente con los horarios publicados por Aerolíneas (1 hora de viaje aproximadamente). Sin embargo, esto puede deberse a que en nuestro cálculo no estamos considerando variables como el tiempo de despegue y aterrizaje, tiempo de aceleración y desaceleración, congestión, etc. Lo mismo aplica para el inciso anterior; los tiempos y valores se volverán más realistas a medida que realicemos las simulaciones.\n",
    "- La máxima cantidad de aterrizajes que podrían suceder entre las 6 am y la medianoche está dada por la siguiente cuenta: $\\frac{18 \\cdot 60}{4}= 270$. Entonces, la cantidad máxima de aterrizajes en 18 horas suponiendo la restricción mencionada anteriormente es 270."
   ]
  },
  {
   "cell_type": "markdown",
   "id": "7222b390",
   "metadata": {},
   "source": [
    "### Ejercicio 1: Simulación de Montecarlo y Visualización"
   ]
  },
  {
   "cell_type": "code",
   "execution_count": null,
   "id": "99f02f82",
   "metadata": {},
   "outputs": [
    {
     "name": "stderr",
     "output_type": "stream",
     "text": [
      "Simulation:: 100%|██████████| 1/1 [00:00<00:00, 43.02it/s]\n"
     ]
    }
   ],
   "source": [
    "h = Handler(N_ITERS = 1)\n",
    "results ,planes = h.simulate()"
   ]
  },
  {
   "cell_type": "code",
   "execution_count": 3,
   "id": "6a859896",
   "metadata": {},
   "outputs": [
    {
     "ename": "TypeError",
     "evalue": "'NoneType' object is not subscriptable",
     "output_type": "error",
     "traceback": [
      "\u001b[31m---------------------------------------------------------------------------\u001b[39m",
      "\u001b[31mTypeError\u001b[39m                                 Traceback (most recent call last)",
      "\u001b[36mCell\u001b[39m\u001b[36m \u001b[39m\u001b[32mIn[3]\u001b[39m\u001b[32m, line 1\u001b[39m\n\u001b[32m----> \u001b[39m\u001b[32m1\u001b[39m histories = [p \u001b[38;5;28;01mfor\u001b[39;00m p \u001b[38;5;129;01min\u001b[39;00m \u001b[43mplanes\u001b[49m\u001b[43m[\u001b[49m\u001b[32;43m0\u001b[39;49m\u001b[43m]\u001b[49m[\u001b[33m\"\u001b[39m\u001b[33mplane_history\u001b[39m\u001b[33m\"\u001b[39m]]\n\u001b[32m      2\u001b[39m visualize.visualize(histories,\u001b[32m2.5\u001b[39m, \u001b[32m18\u001b[39m*\u001b[32m60\u001b[39m, AIRCRAFT_SVG_PATH=\u001b[33m\"\u001b[39m\u001b[33mplane.svg\u001b[39m\u001b[33m\"\u001b[39m)\n",
      "\u001b[31mTypeError\u001b[39m: 'NoneType' object is not subscriptable"
     ]
    }
   ],
   "source": [
    "histories = [p for p in planes[0][\"plane_history\"]]\n",
    "visualize.visualize(histories,2.5, 18*60, AIRCRAFT_SVG_PATH=\"plane.svg\")"
   ]
  },
  {
   "cell_type": "markdown",
   "id": "9b0367e9",
   "metadata": {},
   "source": [
    "### Ejercicio 2: Simulación con promedio de 1 arribo por hora\n",
    "Si el promedio de arribos es 1 avión por hora y nosotros medimos minuto a minuto, $\\lambda=\\frac{1}{60}$"
   ]
  },
  {
   "cell_type": "code",
   "execution_count": null,
   "id": "b968a707",
   "metadata": {},
   "outputs": [],
   "source": [
    "ej2 = Handler(N_ITERS = 10_000, LAMBDA = 1/60)\n",
    "results, simulation_history = ej2.simulate()"
   ]
  },
  {
   "cell_type": "markdown",
   "id": "b7b8a821",
   "metadata": {},
   "source": [
    "### Ejercicio 3: Probabilidad de que lleguen 5 aviones en una hora"
   ]
  },
  {
   "cell_type": "code",
   "execution_count": null,
   "id": "b990834e",
   "metadata": {},
   "outputs": [],
   "source": [
    "N_ITERS = 10_000\n",
    "LAMBDA = 1/60\n",
    "props_five = np.zeros(N_ITERS)\n",
    "for i, sim in enumerate(plane_history):\n",
    "    first_appearances = [sim[\"plane_history\"][i][0][0] for i in range(len(sim[\"plane_history\"]))]\n",
    "    groups = np.zeros((18,))\n",
    "    more_than_five = 0\n",
    "    for t0 in first_appearances:\n",
    "        min_to_hour = int(t0 // 60)\n",
    "        groups[min_to_hour] += 1\n",
    "    more_than_five += (groups >= 5).astype(int).sum() / 18\n",
    "    props_five[i] = more_than_five\n",
    "\n",
    "print(\"Proba de que lleguen más de 5 aviones en una hora:\", props_five.mean())\n",
    "print(\"Error de estimación:\", props_five.std())"
   ]
  },
  {
   "cell_type": "markdown",
   "id": "7cc4d7ef",
   "metadata": {},
   "source": [
    "Podríamos calcularlo de forma analítica de la siguiente manera:\n",
    "\n",
    "$$\n",
    "\\begin{aligned}\n",
    "    \\text{Sea } X &= \n",
    "    \\begin{cases}\n",
    "        1 & \\text{si arribó un avión en ese minuto} \\\\\n",
    "        0 & \\text{si no}\n",
    "    \\end{cases} \\\\[6pt]\n",
    "    &X \\sim \\text{Be}\\!\\left(\\tfrac{1}{60}\\right) \\\\[6pt]\n",
    "    \\text{Definimos } S &= \\sum_{i=1}^{60} X_i \\sim Bin(60, \\frac{1}{60}) \\\\[6pt]\n",
    "    \\text{Luego} \\ Y &= \"\\text{proba de que lleguen 5 aviones en una hora}\" \\ = \\ P(S \\ge 5) \\\\[6pt]\n",
    "    \\text{Así, podemos calcular analíticamente: } P(S \\ge 5) &= 1 - P(S \\lt 5)\n",
    "\\end{aligned}\n",
    "$$"
   ]
  },
  {
   "cell_type": "code",
   "execution_count": null,
   "id": "fe67fc6f",
   "metadata": {},
   "outputs": [],
   "source": [
    "rv = binom(60, 1/60)\n",
    "1 - rv.cdf(4)"
   ]
  },
  {
   "cell_type": "markdown",
   "id": "e9848a05",
   "metadata": {},
   "source": [
    "Así, vemos que el valor teórico de $P(S \\ge 5)$  es 0.00328 $\\approx$ 0.0033, lo cual no está lejos del valor estimado"
   ]
  },
  {
   "cell_type": "markdown",
   "id": "e0b75f38",
   "metadata": {},
   "source": [
    "### Ejercicio 4: Simulación de arribos para distintas tasas de arribo"
   ]
  },
  {
   "cell_type": "code",
   "execution_count": null,
   "id": "96dd5a9c",
   "metadata": {},
   "outputs": [],
   "source": [
    "lambdas = [0.02, 0.1 , 0.2, 0.5, 1]\n",
    "results = []\n",
    "\n",
    "for l in lambdas:\n",
    "    h = Handler(N_ITERS=10_000, LAMBDA= l)\n",
    "    res, p_hist = h.simulate()\n",
    "    results.append({\n",
    "        \"lambda\": l,\n",
    "        \"numeric_results\": res,\n",
    "        \"plane_history\": p_hist\n",
    "    })\n",
    "# Metricas a mostrar aca:\n",
    "# - Media de congestion por avion. Media de atraso en el arribo esperado (sta - ata)\n",
    "# - Cantidad de aviones que llegaron en funcion de lambda\n",
    "# - Cantidad de desvios a Montevideo\n",
    "# - Cantidad de veces que un avion debe reposicionarse\n",
    "# Agregar el error para cada una de estas variables"
   ]
  },
  {
   "cell_type": "markdown",
   "id": "30e860c2",
   "metadata": {},
   "source": [
    "### Ejercicio 5: Simulación con interrupción de aterrizaje"
   ]
  },
  {
   "cell_type": "code",
   "execution_count": null,
   "id": "bd8e0a65",
   "metadata": {},
   "outputs": [],
   "source": [
    "lambdas = [0.02, 0.1 , 0.2, 0.5, 1]\n",
    "results = []\n",
    "bounce_prob = 0.1\n",
    "for l in lambdas:\n",
    "    h = Handler(LAMBDA=l, PROP_BOUNCE=bounce_prob)\n",
    "    res, p_hist = h.simulate()\n",
    "    results.append({\n",
    "        \"lambda\": l,\n",
    "        \"numeric_results\": res,\n",
    "        \"plane_history\": p_hist\n",
    "    })\n",
    "# Metricas a mostrar aca:\n",
    "# - Media de congestion por avion. Media de atraso en el arribo esperado (sta - ata)\n",
    "# - Cantidad de aviones que llegaron en funcion de lambda\n",
    "# - Cantidad de desvios a Montevideo\n",
    "# - Cantidad de veces que un avion debe reposicionarse\n",
    "# Agregar el error para cada una de estas variables"
   ]
  },
  {
   "cell_type": "markdown",
   "id": "d2507f8d",
   "metadata": {},
   "source": [
    "### Ejercicio 6: Simulación con cierre de media hora"
   ]
  },
  {
   "cell_type": "code",
   "execution_count": null,
   "id": "05dfc9ef",
   "metadata": {},
   "outputs": [],
   "source": [
    "arrival_rate = 10 / 60\n",
    "h = Handler(LAMBDA=arrival_rate, CLOSING_TIME=240) # closing_time = 240 -> el aeropuerto cierra a las 10:00 AM\n",
    "res, p_hist = h.simulate()\n",
    "# Metricas a mostrar aca:\n",
    "# - Media de congestion por avion. Media de atraso en el arribo esperado (sta - ata)\n",
    "# - Cantidad de aviones que llegaron en funcion de lambda\n",
    "# - Cantidad de desvios a Montevideo\n",
    "# - Cantidad de veces que un avion debe reposicionarse\n",
    "# Agregar el error para cada una de estas variables"
   ]
  },
  {
   "cell_type": "markdown",
   "id": "85c7918a",
   "metadata": {},
   "source": [
    "### Ejercicio 7: Cambios para mejorar el funcionamiento del aeropuerto\n",
    "\n",
    "Para la siguiente experimentación y cambios de políticas vamos a usar $\\lambda = 0.1$ que representa el valor que estimamos en función de los datos empíricos obtenidos de aerolíneas y otros portales de aviación."
   ]
  }
 ],
 "metadata": {
  "kernelspec": {
   "display_name": "Python 3",
   "language": "python",
   "name": "python3"
  },
  "language_info": {
   "codemirror_mode": {
    "name": "ipython",
    "version": 3
   },
   "file_extension": ".py",
   "mimetype": "text/x-python",
   "name": "python",
   "nbconvert_exporter": "python",
   "pygments_lexer": "ipython3",
   "version": "3.12.6"
  }
 },
 "nbformat": 4,
 "nbformat_minor": 5
}
